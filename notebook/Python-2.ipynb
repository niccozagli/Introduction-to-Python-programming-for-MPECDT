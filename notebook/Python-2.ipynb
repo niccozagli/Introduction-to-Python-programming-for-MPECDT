{
 "cells": [
  {
   "cell_type": "markdown",
   "metadata": {},
   "source": [
    "# Introduction to Python programming\n",
    "\n",
    "### [Gerard Gorman](http://www.imperial.ac.uk/people/g.gorman), [Christian Jacobs](http://christianjacobs.uk/)\n",
    "\n",
    "### Updated for MPECDT by [David Ham](http://www.imperial.ac.uk/people/david.ham)"
   ]
  },
  {
   "cell_type": "markdown",
   "metadata": {},
   "source": [
    "# Lecture 2: Computing with basic language constructions\n",
    "\n",
    "Learning objectives:\n",
    "\n",
    "* Introduction to two different forms of loops which are used to repeat operations on data: either until a condition is satisfied (*while-loop*) or for a fixed number of iterations (*for-loop*).\n",
    "* Form a *condition* using a *boolean expression*. This is used to either terminate loops or control if a specific block of code is executed via the *if-statement*.\n",
    "* Learn two different methods for storing many data elements within a single Python type.\n",
    "* Introduction to developing your own Python *functions* which allows you to execute the same block of code, with different inputs and outputs, from anywhere in the code."
   ]
  },
  {
   "cell_type": "markdown",
   "metadata": {},
   "source": [
    "## Boolean expressions\n",
    "An expression with value *true* or *false* is called a boolean expression. Example expressions for what you would write mathematically as\n",
    "$C=40$, $C\\ne40$, $C\\ge40$, $C\\gt40$ and $C\\lt40$ are:"
   ]
  },
  {
   "cell_type": "raw",
   "metadata": {},
   "source": [
    "C == 40 # Note: the double == checks for equality, but C=40 is an assignment!\n",
    "C != 40 # This could also be written as 'not C == 4' (i.e. the opposite of what C == 4 gives)\n",
    "C >= 40\n",
    "C > 40\n",
    "C < 40"
   ]
  },
  {
   "cell_type": "markdown",
   "metadata": {},
   "source": [
    "We can test boolean expressions in a Python shell:"
   ]
  },
  {
   "cell_type": "code",
   "execution_count": 2,
   "metadata": {},
   "outputs": [
    {
     "name": "stdout",
     "output_type": "stream",
     "text": [
      "C != 40:  True\n",
      "C < 40:  False\n",
      "C == 41:  True\n"
     ]
    },
    {
     "data": {
      "text/plain": [
       "bool"
      ]
     },
     "execution_count": 2,
     "metadata": {},
     "output_type": "execute_result"
    }
   ],
   "source": [
    "C = 41\n",
    "print(\"C != 40: \", C != 40)\n",
    "print(\"C < 40: \", C < 40)\n",
    "print(\"C == 41: \", C == 41)"
   ]
  },
  {
   "cell_type": "markdown",
   "metadata": {},
   "source": [
    "Several conditions can be combined with the special 'and' and 'or' operators into a single boolean expression:"
   ]
  },
  {
   "cell_type": "raw",
   "metadata": {},
   "source": [
    "condition1 and condition2\n",
    "\n",
    "condition1 or condition2"
   ]
  },
  {
   "cell_type": "markdown",
   "metadata": {},
   "source": [
    "\n",
    "* Rule 1: (**C1** *and* **C2**) is *True* only if both **C1** and **C2** are *True*\n",
    "* Rule 2: (**C1** *or* **C2**) is *True* if either **C1** or **C2** are *True*\n",
    "\n",
    "Examples:"
   ]
  },
  {
   "cell_type": "code",
   "execution_count": null,
   "metadata": {},
   "outputs": [],
   "source": [
    "x=0; y=1.2\n",
    "print (x >= 0 and y < 1)"
   ]
  },
  {
   "cell_type": "markdown",
   "metadata": {},
   "source": [
    "## <span style=\"color:blue\">Exercise: Values of boolean expressions</span>\n",
    "Add a comment to the code below to explain the outcome of each of the boolean expressions:"
   ]
  },
  {
   "cell_type": "code",
   "execution_count": null,
   "metadata": {},
   "outputs": [],
   "source": [
    "C = 41\n",
    "\n",
    "print(\"Case 1: \", C == 40)\n",
    "print(\"Case 2: \", C != 40 and C < 41)\n",
    "print(\"Case 3: \", C != 40 or C < 41)\n",
    "print(\"Case 4: \", not C == 40)\n",
    "print(\"Case 5: \", not C > 40)\n",
    "print(\"Case 6: \", C <= 41)\n",
    "print(\"Case 7: \", not False)\n",
    "print(\"Case 8: \", True and False)\n",
    "print(\"Case 9: \", False or True)\n",
    "print(\"Case 10: \", False or False or False)\n",
    "print(\"Case 11: \", True and True and False)\n",
    "print(\"Case 12: \", False == 0)\n",
    "print(\"Case 13: \", True == 0)\n",
    "print(\"Case 14: \", True == 1)"
   ]
  },
  {
   "cell_type": "markdown",
   "metadata": {},
   "source": [
    "## Loops\n",
    "Suppose we want to make a table of Celsius and Fahrenheit\n",
    "degrees:"
   ]
  },
  {
   "cell_type": "raw",
   "metadata": {},
   "source": [
    "             -20  -4.0\n",
    "             -15   5.0\n",
    "             -10  14.0\n",
    "              -5  23.0\n",
    "               0  32.0\n",
    "               5  41.0\n",
    "              10  50.0\n",
    "              15  59.0\n",
    "              20  68.0\n",
    "              25  77.0\n",
    "              30  86.0\n",
    "              35  95.0\n",
    "              40 104.0"
   ]
  },
  {
   "cell_type": "markdown",
   "metadata": {},
   "source": [
    "How do we write a program that prints out such a table?\n",
    "￼\n",
    "We know from the last lecture how to make one line in this table:"
   ]
  },
  {
   "cell_type": "code",
   "execution_count": null,
   "metadata": {},
   "outputs": [],
   "source": [
    "C = -20\n",
    "F = 9/5*C + 32\n",
    "print(C, F)"
   ]
  },
  {
   "cell_type": "markdown",
   "metadata": {},
   "source": [
    "We can just repeat these statements:"
   ]
  },
  {
   "cell_type": "code",
   "execution_count": null,
   "metadata": {},
   "outputs": [],
   "source": [
    "C=-20; F=9/5*C+32; print(C,F)\n",
    "C=-15; F=9/5*C+32; print(C,F)\n",
    "C=-10; F=9/5*C+32; print(C,F)\n",
    "C=-5; F=9/5*C+32; print(C,F)\n",
    "C=0; F=9/5*C+32; print(C,F)\n",
    "C=5; F=9/5*C+32; print(C,F)\n",
    "C=10; F=9/5*C+32; print(C,F)\n",
    "C=15; F=9/5*C+32; print(C,F)\n",
    "C=20; F=9/5*C+32; print(C,F)\n",
    "C=25; F=9/5*C+32; print(C,F)\n",
    "C=30; F=9/5*C+32; print(C,F)\n",
    "C=35; F=9/5*C+32; print(C,F)\n",
    "C=40; F=9/5*C+32; print(C,F)"
   ]
  },
  {
   "cell_type": "markdown",
   "metadata": {},
   "source": [
    "So we can see that works but its **very boring** to write and very easy to introduce a misprint.\n",
    "\n",
    "**You really should not be doing boring repetitive tasks like this.** Spend one time instead looking for a smarter solution. When programming becomes boring, there is usually a construct that automates the writing. Computers are very good at performing repetitive tasks. For this purpose we use **loops**."
   ]
  },
  {
   "cell_type": "markdown",
   "metadata": {},
   "source": [
    "## The while loop (and the significance of indentation)\n",
    "A while loop executes repeatedly a set of statements as long as a **boolean** (i.e. *True* / *False*) condition is *True*"
   ]
  },
  {
   "cell_type": "raw",
   "metadata": {},
   "source": [
    "while condition:\n",
    "    <statement 1>\n",
    "    <statement 2>\n",
    "    ...\n",
    "<first statement after loop>"
   ]
  },
  {
   "cell_type": "markdown",
   "metadata": {},
   "source": [
    "Note that all statements to be executed within the loop must be indented by the same amount! The loop ends when an unindented statement is encountered.\n",
    "\n",
    "At this point it is worth noticing that **blank spaces may or may not be important** in Python programs. These statements are equivalent (blanks do not matter):"
   ]
  },
  {
   "cell_type": "code",
   "execution_count": null,
   "metadata": {},
   "outputs": [],
   "source": [
    "v0=3\n",
    "v0  =  3\n",
    "v0=   3\n",
    "# The computer does not care but this formatting style is\n",
    "# considered clearest for the human reader.\n",
    "v0 = 3"
   ]
  },
  {
   "cell_type": "markdown",
   "metadata": {},
   "source": [
    "Here is a while loop example where blank spaces really do matter:"
   ]
  },
  {
   "cell_type": "code",
   "execution_count": 9,
   "metadata": {},
   "outputs": [
    {
     "name": "stdout",
     "output_type": "stream",
     "text": [
      "11\n"
     ]
    }
   ],
   "source": [
    "counter = 0\n",
    "while counter <= 10:\n",
    "    counter = counter + 1\n",
    "print(counter)"
   ]
  },
  {
   "cell_type": "markdown",
   "metadata": {},
   "source": [
    "Let's take a look at what happens when we forget to indent correctly:"
   ]
  },
  {
   "cell_type": "code",
   "execution_count": 6,
   "metadata": {},
   "outputs": [
    {
     "ename": "IndentationError",
     "evalue": "expected an indented block (<ipython-input-6-d8461f52562c>, line 3)",
     "output_type": "error",
     "traceback": [
      "\u001b[0;36m  File \u001b[0;32m\"<ipython-input-6-d8461f52562c>\"\u001b[0;36m, line \u001b[0;32m3\u001b[0m\n\u001b[0;31m    counter = counter + 1\u001b[0m\n\u001b[0m          ^\u001b[0m\n\u001b[0;31mIndentationError\u001b[0m\u001b[0;31m:\u001b[0m expected an indented block\n"
     ]
    }
   ],
   "source": [
    "counter = 0\n",
    "while counter <= 10:\n",
    "counter = counter + 1\n",
    "print(counter)"
   ]
  },
  {
   "cell_type": "markdown",
   "metadata": {},
   "source": [
    "Let's use the while loop to create the table above:"
   ]
  },
  {
   "cell_type": "code",
   "execution_count": null,
   "metadata": {},
   "outputs": [],
   "source": [
    "C = -20                      # Initialise C\n",
    "dC = 5                       # Increment for C within the loop\n",
    "while C <= 40:               # Loop heading with condition\n",
    "    F = (9/5)*C + 32       # 1st statement inside loop\n",
    "    print (\"%3d %6.1f\" % (C, F))               # 2nd statement inside loop !!! the number of digits is needed to make the table\n",
    "    C = C + dC               # Increment C for the next iteration of the loop."
   ]
  },
  {
   "cell_type": "markdown",
   "metadata": {},
   "source": [
    "## <span style=\"color:blue\">Exercise: Make a Fahrenheit-Celsius conversion table</span>\n",
    "Write a program that prints out a table with Fahrenheit degrees 0, 10, 20, ..., 100 in the first column and the corresponding Celsius degrees in the second column."
   ]
  },
  {
   "cell_type": "code",
   "execution_count": null,
   "metadata": {},
   "outputs": [],
   "source": []
  },
  {
   "cell_type": "markdown",
   "metadata": {},
   "source": [
    "## <span style=\"color:blue\">Exercise: Write an approximate Fahrenheit-Celsius conversion table</span>\n",
    "Many people use an approximate formula for quickly converting Fahrenheit ($F$) to Celsius ($C$) degrees:</br></br>\n",
    "$C \\approx \\hat{C} = \\frac{F − 30}{2}$</br></br>\n",
    "Modify the program from the previous exercise so that it prints three columns: $F$, $C$, and the approximate value $\\hat{C}$."
   ]
  },
  {
   "cell_type": "code",
   "execution_count": null,
   "metadata": {},
   "outputs": [],
   "source": []
  },
  {
   "cell_type": "markdown",
   "metadata": {},
   "source": [
    "## Lists\n",
    "So far, one variable has referred to one number (or string). Sometimes however we naturally have a collection of numbers, say\n",
    "degrees −20, −15, −10, −5, 0, ..., 40. One way to store these values in a computer program would be to have one variable per value, i.e."
   ]
  },
  {
   "cell_type": "code",
   "execution_count": null,
   "metadata": {},
   "outputs": [],
   "source": [
    "C1 = -20\n",
    "C2 = -15\n",
    "C3 = -10\n",
    "# ...\n",
    "C13 = 40"
   ]
  },
  {
   "cell_type": "markdown",
   "metadata": {},
   "source": [
    "This is clearly a terrible solution, particularly if we have lots of values. A better way of doing this is to collect values together in a list:"
   ]
  },
  {
   "cell_type": "code",
   "execution_count": null,
   "metadata": {},
   "outputs": [],
   "source": [
    "C = [-20, -15, -10, -5, 0, 5, 10, 15, 20, 25, 30, 35, 40]"
   ]
  },
  {
   "cell_type": "markdown",
   "metadata": {},
   "source": [
    "Now there is just one variable, **C**, holding all the values. Elements in a list are accessed via an index. List indices are always numbered as 0, 1, 2, and so forth up to the number of elements minus one:"
   ]
  },
  {
   "cell_type": "code",
   "execution_count": 10,
   "metadata": {},
   "outputs": [
    {
     "name": "stdout",
     "output_type": "stream",
     "text": [
      "4\n",
      "6\n",
      "-3.5\n",
      "3\n"
     ]
    }
   ],
   "source": [
    "mylist = [4, 6, -3.5]\n",
    "print(mylist[0])\n",
    "print(mylist[1])\n",
    "print(mylist[2])\n",
    "print(len(mylist))  # length of list"
   ]
  },
  {
   "cell_type": "markdown",
   "metadata": {},
   "source": [
    "Here are a few example of operations that you can perform on lists:"
   ]
  },
  {
   "cell_type": "code",
   "execution_count": null,
   "metadata": {},
   "outputs": [],
   "source": [
    "C = [-10, -5, 0, 5, 10, 15, 20, 25, 30]\n",
    "C.append(35) # add new element 35 at the end\n",
    "print(C)"
   ]
  },
  {
   "cell_type": "code",
   "execution_count": null,
   "metadata": {},
   "outputs": [],
   "source": [
    "C = C + [40,45] # And another list to the end of C\n",
    "print(C)"
   ]
  },
  {
   "cell_type": "code",
   "execution_count": null,
   "metadata": {},
   "outputs": [],
   "source": [
    "C.insert(0, -15)     # Insert -15 as index 0\n",
    "print(C)"
   ]
  },
  {
   "cell_type": "code",
   "execution_count": null,
   "metadata": {},
   "outputs": [],
   "source": [
    "del C[2]             # delete 3rd element\n",
    "print(C)"
   ]
  },
  {
   "cell_type": "code",
   "execution_count": null,
   "metadata": {},
   "outputs": [],
   "source": [
    "del C[2]             # delete what is now 3rd element\n",
    "print(C)"
   ]
  },
  {
   "cell_type": "code",
   "execution_count": null,
   "metadata": {},
   "outputs": [],
   "source": [
    "print(len(C)) # length of list"
   ]
  },
  {
   "cell_type": "code",
   "execution_count": null,
   "metadata": {},
   "outputs": [],
   "source": [
    "print(C.index(10)) # Find the index of the list with the value 10"
   ]
  },
  {
   "cell_type": "code",
   "execution_count": null,
   "metadata": {},
   "outputs": [],
   "source": [
    "print (10 in C)      # True only if the value 10 is stored in the list"
   ]
  },
  {
   "cell_type": "code",
   "execution_count": null,
   "metadata": {},
   "outputs": [],
   "source": [
    "print(C[-1]) # The last value in the list."
   ]
  },
  {
   "cell_type": "code",
   "execution_count": null,
   "metadata": {},
   "outputs": [],
   "source": [
    "print(C[-2]) # The second last value in the list."
   ]
  },
  {
   "cell_type": "markdown",
   "metadata": {},
   "source": [
    "You can also extract sublists using \":\""
   ]
  },
  {
   "cell_type": "code",
   "execution_count": null,
   "metadata": {},
   "outputs": [],
   "source": [
    "print(C[5:])          # From index 5 to the end of the list."
   ]
  },
  {
   "cell_type": "code",
   "execution_count": null,
   "metadata": {},
   "outputs": [],
   "source": [
    "print(C[5:7]) # From index 5 up to, but not including index 7."
   ]
  },
  {
   "cell_type": "markdown",
   "metadata": {},
   "source": [
    "Many languages (especially Matlab and Fortran) have would include the endpoint of a slice (7 in this case). One way to think of what Python does is that the slice is a half-open interval: $[5,7)$. This makes cutting a list in half particularly easy. For example:"
   ]
  },
  {
   "cell_type": "code",
   "execution_count": null,
   "metadata": {},
   "outputs": [],
   "source": [
    "print(C[:5] + [\"Hello\"] + C[5:])"
   ]
  },
  {
   "cell_type": "code",
   "execution_count": null,
   "metadata": {},
   "outputs": [],
   "source": [
    "print(C[7:-1]) # From index 7 up to the second last element."
   ]
  },
  {
   "cell_type": "code",
   "execution_count": null,
   "metadata": {},
   "outputs": [],
   "source": [
    "print(C[:])           # [:] specifies the whole list."
   ]
  },
  {
   "cell_type": "code",
   "execution_count": null,
   "metadata": {},
   "outputs": [],
   "source": [
    "somelist = ['Curly', 'Larry', 'Moe']\n",
    "stooge1, stooge2, stooge3 = somelist # Unpack the entries in a list.\n",
    "print(stooge3, stooge2, stooge1)"
   ]
  },
  {
   "cell_type": "markdown",
   "metadata": {},
   "source": [
    "Of course this only works if `somelist` contains exactly the number of items on the left hand side of the equals. Another useful operator is `*` (pronounced \"splat\"). It turns a list (or any other sequence) into the set of arguments of a function. For example: "
   ]
  },
  {
   "cell_type": "code",
   "execution_count": null,
   "metadata": {},
   "outputs": [],
   "source": [
    "print(somelist) # Prints the list.\n",
    "print(*somelist) # Prints the items in the list."
   ]
  },
  {
   "cell_type": "markdown",
   "metadata": {},
   "source": [
    "## <span style=\"color:blue\">Exercise: Store odd numbers in a list</span>\n",
    "\n",
    "Step 1: Write a program that generates all odd numbers from 1 to *n*. Set *n* in the beginning of the program and use a while loop to compute the numbers. (Make sure that if *n* is an even number, the largest generated odd number is *n*-1.).\n",
    "\n",
    "Step 2: Store the generated odd numbers in a list. Start with an empty list and use the same while loop where you generate each odd number, ao append the new number to the list.\n",
    "\n",
    "Finally, print the list elements to the screen."
   ]
  },
  {
   "cell_type": "code",
   "execution_count": 16,
   "metadata": {},
   "outputs": [
    {
     "name": "stdout",
     "output_type": "stream",
     "text": [
      "[1, 3, 5, 7, 9]\n"
     ]
    }
   ],
   "source": [
    "N=10\n",
    "lista=[]\n",
    "i=1\n",
    "while(2*i-1<=N):\n",
    "    lista.append(2*i-1)\n",
    "    i=i+1\n",
    "print(lista)    "
   ]
  },
  {
   "cell_type": "markdown",
   "metadata": {},
   "source": [
    "## For loops\n",
    "We can visit each element in a list and process the element with some statements using a *for* loop, for example:"
   ]
  },
  {
   "cell_type": "code",
   "execution_count": 17,
   "metadata": {},
   "outputs": [
    {
     "name": "stdout",
     "output_type": "stream",
     "text": [
      "list element: 0\n",
      "list element: 10\n",
      "list element: 20\n",
      "list element: 40\n",
      "list element: 100\n",
      "The degrees list has 5 elements\n"
     ]
    }
   ],
   "source": [
    "degrees = [0, 10, 20, 40, 100]\n",
    "for C in degrees:\n",
    "    print('list element:', C)\n",
    "print('The degrees list has', len(degrees), 'elements')"
   ]
  },
  {
   "cell_type": "markdown",
   "metadata": {},
   "source": [
    "Notice again how the statements to be executed within the loop must be indented! Let's now revisit the conversion table example using the *for* loop:"
   ]
  },
  {
   "cell_type": "code",
   "execution_count": null,
   "metadata": {},
   "outputs": [],
   "source": [
    "Cdegrees = [-20, -15, -10, -5, 0, 5, 10, 15, 20, 25, 30, 35, 40]\n",
    "for C in Cdegrees:\n",
    "    F = (9/5)*C + 32\n",
    "    print(\"%3d %6.2f\" % (C, F))"
   ]
  },
  {
   "cell_type": "markdown",
   "metadata": {},
   "source": [
    "It is also possible to rewrite the *for* loop as a *while* loop, i.e.,"
   ]
  },
  {
   "cell_type": "raw",
   "metadata": {},
   "source": [
    "for element in somelist:\n",
    "           # process element"
   ]
  },
  {
   "cell_type": "markdown",
   "metadata": {},
   "source": [
    "can always be transformed to a *while* loop"
   ]
  },
  {
   "cell_type": "raw",
   "metadata": {},
   "source": [
    "index = 0\n",
    "while index < len(somelist):\n",
    "    element = somelist[index]\n",
    "    # process element\n",
    "    index += 1"
   ]
  },
  {
   "cell_type": "markdown",
   "metadata": {},
   "source": [
    "Taking the previous table example:"
   ]
  },
  {
   "cell_type": "code",
   "execution_count": null,
   "metadata": {},
   "outputs": [],
   "source": [
    "Cdegrees = [-20, -15, -10, -5, 0, 5, 10, 15, 20, 25, 30, 35, 40]\n",
    "index = 0\n",
    "while index < len(Cdegrees):\n",
    "    C = Cdegrees[index]\n",
    "    F = (9/5)*C + 32\n",
    "    print('%5d %5.1f' % (C, F))\n",
    "    index += 1"
   ]
  },
  {
   "cell_type": "markdown",
   "metadata": {},
   "source": [
    "Rather than just printing out the Fahrenheit values, let's also store these computed values in a list of their own:"
   ]
  },
  {
   "cell_type": "code",
   "execution_count": null,
   "metadata": {},
   "outputs": [],
   "source": [
    "Cdegrees = [-20, -15, -10, -5, 0, 5, 10, 15, 20, 25, 30, 35, 40]\n",
    "Fdegrees = []            # start with empty list\n",
    "for C in Cdegrees:\n",
    "    F = (9/5)*C + 32\n",
    "    Fdegrees.append(F)   # add new element to Fdegrees\n",
    "\n",
    "print(Fdegrees)"
   ]
  },
  {
   "cell_type": "markdown",
   "metadata": {},
   "source": [
    "## Iterators: things you can iterate over.\n",
    "We've seen that a `for` loop can iterate over list values. In fact you can iterate over any object that is capable of providing values one at a time. In python, these objects are called `iterators`.\n",
    "\n",
    "A particularly useful python function which creates an iterator is `range`. For example, we can use range to iterate over the *indices* of a list:"
   ]
  },
  {
   "cell_type": "raw",
   "metadata": {},
   "source": [
    "for i in range(0, len(somelist), 1):\n",
    "    element = somelist[i]\n",
    "    ... process element or somelist[i] directly"
   ]
  },
  {
   "cell_type": "markdown",
   "metadata": {},
   "source": [
    "The statement *range(start, stop, inc)* generates an iterator over the integers *start*, *start+inc*, *start+2\\*inc*, and so on up to, but not including, *stop*. We can also write *range(stop)* as an abbreviation for *range(0, stop, 1)*:"
   ]
  },
  {
   "cell_type": "code",
   "execution_count": 18,
   "metadata": {},
   "outputs": [
    {
     "name": "stdout",
     "output_type": "stream",
     "text": [
      "range(0, 3)\n"
     ]
    }
   ],
   "source": [
    "print(range(3)) # same as range(0, 3, 1)"
   ]
  },
  {
   "cell_type": "markdown",
   "metadata": {},
   "source": [
    "Oh, that wasn't very informative. If we want to see all the numbers which the `range` will iterate over, we can cast the range to a list:"
   ]
  },
  {
   "cell_type": "code",
   "execution_count": null,
   "metadata": {},
   "outputs": [],
   "source": [
    "print(list(range(3)))"
   ]
  },
  {
   "cell_type": "code",
   "execution_count": null,
   "metadata": {},
   "outputs": [],
   "source": [
    "print(list(range(2, 8, 3)))"
   ]
  },
  {
   "cell_type": "markdown",
   "metadata": {},
   "source": [
    "## List comprehensions\n",
    "Consider this example where we compute two lists in a *for* loop:"
   ]
  },
  {
   "cell_type": "code",
   "execution_count": 19,
   "metadata": {},
   "outputs": [
    {
     "name": "stdout",
     "output_type": "stream",
     "text": [
      "Cdegrees =  [-5.0, -4.5, -4.0, -3.5, -3.0, -2.5, -2.0, -1.5, -1.0, -0.5, 0.0, 0.5, 1.0, 1.5, 2.0, 2.5]\n",
      "Fdegrees =  [23.0, 23.9, 24.8, 25.7, 26.6, 27.5, 28.4, 29.3, 30.2, 31.1, 32.0, 32.9, 33.8, 34.7, 35.6, 36.5]\n"
     ]
    }
   ],
   "source": [
    "n = 16\n",
    "Cdegrees = [];  Fdegrees = []  # empty lists\n",
    "for i in range(n):\n",
    "    Cdegrees.append(-5 + i*0.5)\n",
    "    Fdegrees.append((9/5)*Cdegrees[i] + 32)\n",
    "print(\"Cdegrees = \", Cdegrees)\n",
    "print(\"Fdegrees = \", Fdegrees)"
   ]
  },
  {
   "cell_type": "markdown",
   "metadata": {},
   "source": [
    "As constructing lists is a very common requirement, the above way of doing it can become very tedious to both write and read. Therefore, Python has a compact construct, called list comprehension for generating lists from a *for* loop:"
   ]
  },
  {
   "cell_type": "code",
   "execution_count": 20,
   "metadata": {},
   "outputs": [
    {
     "name": "stdout",
     "output_type": "stream",
     "text": [
      "Cdegrees =  [-5.0, -4.5, -4.0, -3.5, -3.0, -2.5, -2.0, -1.5, -1.0, -0.5, 0.0, 0.5, 1.0, 1.5, 2.0, 2.5]\n",
      "Fdegrees =  [23.0, 23.9, 24.8, 25.7, 26.6, 27.5, 28.4, 29.3, 30.2, 31.1, 32.0, 32.9, 33.8, 34.7, 35.6, 36.5]\n"
     ]
    }
   ],
   "source": [
    "n = 16\n",
    "Cdegrees = [-5 + i*0.5 for i in range(n)]\n",
    "Fdegrees = [(9/5)*C + 32 for C in Cdegrees]\n",
    "print(\"Cdegrees = \", Cdegrees)\n",
    "print(\"Fdegrees = \", Fdegrees)"
   ]
  },
  {
   "cell_type": "markdown",
   "metadata": {},
   "source": [
    "The general form of a list comprehension is:"
   ]
  },
  {
   "cell_type": "raw",
   "metadata": {},
   "source": [
    "somelist = [expression for element in somelist]"
   ]
  },
  {
   "cell_type": "markdown",
   "metadata": {},
   "source": [
    "## <span style=\"color:blue\">Exercise: Repeat the previous exercise of creating a list of odd numbers using using: a for loop, list comprehension and the range function</span>"
   ]
  },
  {
   "cell_type": "code",
   "execution_count": 69,
   "metadata": {},
   "outputs": [],
   "source": [
    "import math\n",
    "N=21"
   ]
  },
  {
   "cell_type": "code",
   "execution_count": 70,
   "metadata": {},
   "outputs": [],
   "source": [
    "# Using for loop\n",
    "l1=[]\n",
    "for i in range(1,math.floor((N+1)/2)+1):\n",
    "    l1.append(2*i-1)"
   ]
  },
  {
   "cell_type": "code",
   "execution_count": 71,
   "metadata": {},
   "outputs": [],
   "source": [
    "# Using list comprehension\n",
    "l2=[2*i-1 for i in range(1,math.floor((N+1)/2)+1)]"
   ]
  },
  {
   "cell_type": "code",
   "execution_count": 72,
   "metadata": {},
   "outputs": [],
   "source": [
    "# Using the function range\n",
    "l3=list(range(1,N+1,2))"
   ]
  },
  {
   "cell_type": "code",
   "execution_count": 73,
   "metadata": {},
   "outputs": [
    {
     "name": "stdout",
     "output_type": "stream",
     "text": [
      "[1, 3, 5, 7, 9, 11, 13, 15, 17, 19, 21]\n",
      "[1, 3, 5, 7, 9, 11, 13, 15, 17, 19, 21]\n",
      "[1, 3, 5, 7, 9, 11, 13, 15, 17, 19, 21]\n"
     ]
    }
   ],
   "source": [
    "print(l1)\n",
    "print(l2)\n",
    "print(l3)"
   ]
  },
  {
   "cell_type": "markdown",
   "metadata": {},
   "source": [
    "# Changing elements in a list\n",
    "Say we want to add $2$ to all the numbers in a list:"
   ]
  },
  {
   "cell_type": "code",
   "execution_count": 74,
   "metadata": {},
   "outputs": [
    {
     "name": "stdout",
     "output_type": "stream",
     "text": [
      "[-1, 1, 10]\n"
     ]
    }
   ],
   "source": [
    "v = [-1, 1, 10]\n",
    "for e in v:\n",
    "    e = e + 2\n",
    "print(v)"
   ]
  },
  {
   "cell_type": "markdown",
   "metadata": {},
   "source": [
    "We can see that the list *v* is unaltered! The reason for this is that inside the loop, *e* is an ordinary (int) variable. At the start of the iteration *e* is assigned a *copy* of the next element in the list. Inside the loop we can change *e* but *v* itself is unaltered. If we want to change *v* we have to use an index to access and modify its elements:"
   ]
  },
  {
   "cell_type": "code",
   "execution_count": 75,
   "metadata": {},
   "outputs": [
    {
     "name": "stdout",
     "output_type": "stream",
     "text": [
      "[-1, 4, 10]\n"
     ]
    }
   ],
   "source": [
    "v[1] = 4 # assign 4 to 2nd element (index 1) in v\n",
    "print(v)"
   ]
  },
  {
   "cell_type": "markdown",
   "metadata": {},
   "source": [
    "To add 2 to all values we need a *for* loop over indices:"
   ]
  },
  {
   "cell_type": "code",
   "execution_count": 76,
   "metadata": {},
   "outputs": [
    {
     "name": "stdout",
     "output_type": "stream",
     "text": [
      "[1, 6, 12]\n"
     ]
    }
   ],
   "source": [
    "for i in range(len(v)):\n",
    "    v[i] = v[i] + 2\n",
    "print(v)"
   ]
  },
  {
   "cell_type": "markdown",
   "metadata": {},
   "source": [
    "## Traversing multiple lists simultaneously - *zip(list1, list2, ...)*\n",
    "Consider how we can loop over elements in both Cdegrees and Fdegrees at the same time. One approach would be to use list indices:"
   ]
  },
  {
   "cell_type": "code",
   "execution_count": 77,
   "metadata": {},
   "outputs": [
    {
     "name": "stdout",
     "output_type": "stream",
     "text": [
      "-5.0 23.0\n",
      "-4.5 23.9\n",
      "-4.0 24.8\n",
      "-3.5 25.7\n",
      "-3.0 26.6\n",
      "-2.5 27.5\n",
      "-2.0 28.4\n",
      "-1.5 29.3\n",
      "-1.0 30.2\n",
      "-0.5 31.1\n",
      "0.0 32.0\n",
      "0.5 32.9\n",
      "1.0 33.8\n",
      "1.5 34.7\n",
      "2.0 35.6\n",
      "2.5 36.5\n"
     ]
    }
   ],
   "source": [
    "for i in range(len(Cdegrees)):\n",
    "    print(Cdegrees[i], Fdegrees[i])"
   ]
  },
  {
   "cell_type": "markdown",
   "metadata": {},
   "source": [
    "!!! We are using the indexes !!!"
   ]
  },
  {
   "cell_type": "markdown",
   "metadata": {},
   "source": [
    "An alternative construct (regarded as more ”Pythonic”) uses the *zip* function:"
   ]
  },
  {
   "cell_type": "code",
   "execution_count": 78,
   "metadata": {},
   "outputs": [
    {
     "name": "stdout",
     "output_type": "stream",
     "text": [
      "-5.0 23.0\n",
      "-4.5 23.9\n",
      "-4.0 24.8\n",
      "-3.5 25.7\n",
      "-3.0 26.6\n",
      "-2.5 27.5\n",
      "-2.0 28.4\n",
      "-1.5 29.3\n",
      "-1.0 30.2\n",
      "-0.5 31.1\n",
      "0.0 32.0\n",
      "0.5 32.9\n",
      "1.0 33.8\n",
      "1.5 34.7\n",
      "2.0 35.6\n",
      "2.5 36.5\n"
     ]
    }
   ],
   "source": [
    "for C, F in zip(Cdegrees, Fdegrees):\n",
    "    print(C, F)"
   ]
  },
  {
   "cell_type": "markdown",
   "metadata": {},
   "source": [
    "`zip` creates an *iterator* over the corresponding items of its arguments in order.\n",
    "\n",
    "Another example with three lists:"
   ]
  },
  {
   "cell_type": "code",
   "execution_count": null,
   "metadata": {},
   "outputs": [],
   "source": [
    "l1 = [3, 6, 1]; l2 = [1.5, 1, 0]; l3 = [9.1, 3, 2]\n",
    "for e in zip(l1, l2, l3):\n",
    "    print(*e)"
   ]
  },
  {
   "cell_type": "markdown",
   "metadata": {},
   "source": [
    "If the lists are of unequal length then the loop stops when the end of the shortest list is reached. Experiment with this:"
   ]
  },
  {
   "cell_type": "code",
   "execution_count": null,
   "metadata": {},
   "outputs": [],
   "source": [
    "l1 = [3, 6, 1, 4, 6]; l2 = [1.5, 1, 0, 7]; l3 = [9.1, 3, 2, 0, 9]\n",
    "for e in zip(l1, l2, l3):\n",
    "    print(*e)"
   ]
  },
  {
   "cell_type": "markdown",
   "metadata": {},
   "source": [
    "## Nested lists: list of lists\n",
    "A *list* can contain **any** object, including another *list*. To illustrate this, consider how to store the conversion table as a single Python list rather than two separate lists."
   ]
  },
  {
   "cell_type": "code",
   "execution_count": null,
   "metadata": {},
   "outputs": [],
   "source": [
    "Cdegrees = range(-20, 41, 5)\n",
    "Fdegrees = [(9.0/5)*C + 32 for C in Cdegrees]\n",
    "table1 = [Cdegrees, Fdegrees]  # List of two lists\n",
    "print(\"table1 = \", table1)\n",
    "print(\"table1[0] = \", table1[0])\n",
    "print(\"table1[1] = \", table1[1])\n",
    "print(\"table1[2][3] = \", table1[1][3])"
   ]
  },
  {
   "cell_type": "markdown",
   "metadata": {},
   "source": [
    "This gives us a table of two columns. How do we create a table of rows instead:"
   ]
  },
  {
   "cell_type": "code",
   "execution_count": null,
   "metadata": {},
   "outputs": [],
   "source": [
    "table2 = []\n",
    "for C, F in zip(Cdegrees, Fdegrees):\n",
    "    row = [C, F]\n",
    "    table2.append(row)\n",
    "print(table2)"
   ]
  },
  {
   "cell_type": "markdown",
   "metadata": {},
   "source": [
    "We can use `zip` to do this more elegantly:"
   ]
  },
  {
   "cell_type": "code",
   "execution_count": null,
   "metadata": {},
   "outputs": [],
   "source": [
    "table2 = list(zip(Cdegrees, Fdegrees))\n",
    "print(table2)"
   ]
  },
  {
   "cell_type": "markdown",
   "metadata": {},
   "source": [
    "And you can loop through this list as before:"
   ]
  },
  {
   "cell_type": "code",
   "execution_count": null,
   "metadata": {},
   "outputs": [],
   "source": [
    "for C, F in table2:\n",
    "    print(C, F)"
   ]
  },
  {
   "cell_type": "markdown",
   "metadata": {},
   "source": [
    "##Tuples: sequences that cannot be changed\n",
    "We've already learned that lists are not the only thing which can be iterated over, but that there is a general category of `iterator` types. Similarly, lists are not the only objects which can be indexed. The general category of types which can be indexed are the `sequence` types.\n",
    "\n",
    "Tuples are **constant** sequences. You can use them in much the same way as lists except you cannot modify them. They are an example of an [**immutable**](http://en.wikipedia.org/wiki/Immutable_object) type."
   ]
  },
  {
   "cell_type": "code",
   "execution_count": null,
   "metadata": {},
   "outputs": [],
   "source": [
    "t = (2, 4, 6, 'temp.pdf')               # Define a tuple.\n",
    "t =  2, 4, 6, 'temp.pdf'                # Can skip parenthesis as it is assumed in this context."
   ]
  },
  {
   "cell_type": "markdown",
   "metadata": {},
   "source": [
    "Let's see what happens when we try to modify the tuple like we did with a list:"
   ]
  },
  {
   "cell_type": "code",
   "execution_count": null,
   "metadata": {},
   "outputs": [],
   "source": [
    "t[1] = -1"
   ]
  },
  {
   "cell_type": "code",
   "execution_count": null,
   "metadata": {},
   "outputs": [],
   "source": [
    "t.append(0)"
   ]
  },
  {
   "cell_type": "code",
   "execution_count": null,
   "metadata": {},
   "outputs": [],
   "source": [
    "del t[1]"
   ]
  },
  {
   "cell_type": "markdown",
   "metadata": {},
   "source": [
    "However, we can use the tuple to compose a new tuple:"
   ]
  },
  {
   "cell_type": "code",
   "execution_count": null,
   "metadata": {},
   "outputs": [],
   "source": [
    "t = t + (-1.0, -2.0)\n",
    "print(t)"
   ]
  },
  {
   "cell_type": "markdown",
   "metadata": {},
   "source": [
    "So, why would we use tuples when lists have more functionality?\n",
    "\n",
    "* Tuples are constant and thus protected against accidental changes.\n",
    "* Tuples are faster than lists.\n",
    "* Tuples are widely used in Python software (so you need to know about tuples to understand other people's code!)\n",
    "* Tuples (but not lists) can be used as keys in dictionaries (more about dictionaries later)."
   ]
  },
  {
   "cell_type": "markdown",
   "metadata": {},
   "source": [
    "## <span style=\"color:blue\">Exercise: Make a table of function values</span>\n",
    "Step 1: Write a program that prints a table with $t$ values in the first column and the corresponding $y(t) = v_0 t − 0.5gt^2$ values in the second column. Use $n$ uniformly spaced $t$ values throughout the interval [0, $2v_0/g$]. Set $v0 = 1$, $g = 9.81$, and $n = 11$.\n",
    "\n",
    "Step 2: Once step 1 is working, modify the program so that the $t$ and $y$ values are stored in two lists *t* and *y*. Thereafter, transverse the lists with a *for* loop and write out a nicely formatted table of *t* and *y* values using a *zip* construction."
   ]
  },
  {
   "cell_type": "code",
   "execution_count": null,
   "metadata": {},
   "outputs": [],
   "source": []
  },
  {
   "cell_type": "markdown",
   "metadata": {},
   "source": [
    "##Functions\n",
    "We have already used many Python functions, including mathematical functions:"
   ]
  },
  {
   "cell_type": "code",
   "execution_count": null,
   "metadata": {},
   "outputs": [],
   "source": [
    "from math import *\n",
    "x = pi\n",
    "print cos(x)"
   ]
  },
  {
   "cell_type": "markdown",
   "metadata": {},
   "source": [
    "Other functions you used include *len* and *range*:"
   ]
  },
  {
   "cell_type": "code",
   "execution_count": null,
   "metadata": {},
   "outputs": [],
   "source": [
    "n = len(somelist)\n",
    "ints = range(5, n, 2)"
   ]
  },
  {
   "cell_type": "markdown",
   "metadata": {},
   "source": [
    "You have also used functions that are executed with the dot syntax (called *methods*):"
   ]
  },
  {
   "cell_type": "code",
   "execution_count": null,
   "metadata": {},
   "outputs": [],
   "source": [
    "C = [5, 10, 40, 45]\n",
    "i = C.index(10)\n",
    "C.append(50)\n",
    "C.insert(2, 20)"
   ]
  },
  {
   "cell_type": "markdown",
   "metadata": {},
   "source": [
    "A function is a collection of statements we can execute wherever and whenever we want. Functions can take any number of inputs (called *arguments*) to produce outputs. Functions help to organize programs, make them more understandable, shorter, and easier to extend. For our first example we will turn our temperature conversion code into a function:"
   ]
  },
  {
   "cell_type": "code",
   "execution_count": null,
   "metadata": {},
   "outputs": [],
   "source": [
    "def C2F(C):\n",
    "    return (9/5)*C + 32"
   ]
  },
  {
   "cell_type": "markdown",
   "metadata": {},
   "source": [
    "Functions start with *def*, then the name you want to give your function, then a list of arguments (here C). This is referred to as the *function header*. Inside the function there is a block of statements called the *function body*. Notice that the function body is indented - as was the case for the *for* / *while* loop the indentation indicates where the function ends. At any point within the function, we can \"stop the\n",
    "function\" and return as many values/variables as required."
   ]
  },
  {
   "cell_type": "markdown",
   "metadata": {},
   "source": [
    "## Local and global variables\n",
    "Variables defined within a function are said to have *local scope*. That is to say that they can only be referenced within that function. Let's consider an example (and look carefully at the indentation!!):"
   ]
  },
  {
   "cell_type": "code",
   "execution_count": 79,
   "metadata": {},
   "outputs": [
    {
     "name": "stdout",
     "output_type": "stream",
     "text": [
      "15\n"
     ]
    }
   ],
   "source": [
    "def sumint(start, stop):\n",
    "    s = 0      # variable for accumulating the sum\n",
    "    i = start  # counter\n",
    "    while i <= stop:\n",
    "        s += i\n",
    "        i += 1\n",
    "    return s\n",
    "\n",
    "print(sumint(0, 5))"
   ]
  },
  {
   "cell_type": "markdown",
   "metadata": {},
   "source": [
    "Variables *i* and *s* are local variables in *sumint*. They are destroyed at the end (return) of the function and never visible outside the function (in the calling program); in fact, *start* and *stop* are also local variables. So let's see what happens if we now try to print one of these variables:"
   ]
  },
  {
   "cell_type": "code",
   "execution_count": 80,
   "metadata": {},
   "outputs": [
    {
     "ename": "NameError",
     "evalue": "name 'stop' is not defined",
     "output_type": "error",
     "traceback": [
      "\u001b[0;31m---------------------------------------------------------------------------\u001b[0m",
      "\u001b[0;31mNameError\u001b[0m                                 Traceback (most recent call last)",
      "\u001b[0;32m<ipython-input-80-e2c9c290de89>\u001b[0m in \u001b[0;36m<module>\u001b[0;34m()\u001b[0m\n\u001b[0;32m----> 1\u001b[0;31m \u001b[0mprint\u001b[0m\u001b[0;34m(\u001b[0m\u001b[0mstop\u001b[0m\u001b[0;34m)\u001b[0m\u001b[0;34m\u001b[0m\u001b[0m\n\u001b[0m",
      "\u001b[0;31mNameError\u001b[0m: name 'stop' is not defined"
     ]
    }
   ],
   "source": [
    "print(stop)"
   ]
  },
  {
   "cell_type": "markdown",
   "metadata": {},
   "source": [
    "Functions can also return multiple values. Let's recycle another of our previous examples - compute $y(t)$ and $y'(t)=v_0-gt$:"
   ]
  },
  {
   "cell_type": "code",
   "execution_count": null,
   "metadata": {},
   "outputs": [],
   "source": [
    "def yfunc(t, v0):\n",
    "    g = 9.81\n",
    "    y = v0*t - 0.5*g*t**2\n",
    "    dydt = v0 - g*t\n",
    "    return y, dydt\n",
    "\n",
    "# call:\n",
    "position, velocity = yfunc(0.6, 3)\n",
    "\n",
    "print(position, velocity)"
   ]
  },
  {
   "cell_type": "markdown",
   "metadata": {},
   "source": [
    "Remember that a series of comma separated variables implies a tuple - therefore \"return y, dydt\" is the same as writing \"return (y, dydt)\". Therefore, in general what is returned is a tuple. Let's take a look at another example illustrating this:"
   ]
  },
  {
   "cell_type": "code",
   "execution_count": null,
   "metadata": {},
   "outputs": [],
   "source": [
    "def f(x):\n",
    "    return x, x**2, x**4\n",
    "s = f(2)\n",
    "print(s)\n",
    "print(type(s)) # The function type() tells us what type a variable it is."
   ]
  },
  {
   "cell_type": "markdown",
   "metadata": {},
   "source": [
    "No return value implies that `None` is returned. `None` is a special Python object that represents an ”empty” or undefined value. It is surprisingly useful and we will use it a lot later."
   ]
  },
  {
   "cell_type": "code",
   "execution_count": null,
   "metadata": {},
   "outputs": [],
   "source": [
    "def message(course):\n",
    "    print(\"%s rocks!\"% course)\n",
    "\n",
    "message(\"Python\")\n",
    "\n",
    "r = message(\"Geo\")\n",
    "\n",
    "print(\"r = \", r)"
   ]
  },
  {
   "cell_type": "markdown",
   "metadata": {},
   "source": [
    "## Keyword arguments and default argument values\n",
    "It's possible to specify default values that function arguments should take if no values are provided when the function is called:"
   ]
  },
  {
   "cell_type": "code",
   "execution_count": null,
   "metadata": {},
   "outputs": [],
   "source": [
    "def somefunc(arg1, arg2, kwarg1=True, kwarg2=0):\n",
    "    print(arg1, arg2, kwarg1, kwarg2)\n",
    "\n",
    "somefunc(\"Hello\", [1,2])   # Note that we have not specified values for kwarg1 and kwarg2"
   ]
  },
  {
   "cell_type": "markdown",
   "metadata": {},
   "source": [
    "You can override the default values by passing additional arguments in the correct position:"
   ]
  },
  {
   "cell_type": "code",
   "execution_count": null,
   "metadata": {},
   "outputs": [],
   "source": [
    "somefunc(\"Hello\", [1,2], \"Hi\")"
   ]
  },
  {
   "cell_type": "markdown",
   "metadata": {},
   "source": [
    "... or by naming the argument to which the value should be passed. These are called keyword arguments:"
   ]
  },
  {
   "cell_type": "code",
   "execution_count": null,
   "metadata": {},
   "outputs": [],
   "source": [
    "somefunc(\"Hello\", [1,2], kwarg2=\"Hi\")"
   ]
  },
  {
   "cell_type": "code",
   "execution_count": null,
   "metadata": {},
   "outputs": [],
   "source": [
    "somefunc(\"Hello\", [1,2], kwarg2=\"Hi\", kwarg1=6)"
   ]
  },
  {
   "cell_type": "markdown",
   "metadata": {},
   "source": [
    "If we use variable_name=value for all arguments, their sequence in the function header can be in any order."
   ]
  },
  {
   "cell_type": "code",
   "execution_count": null,
   "metadata": {},
   "outputs": [],
   "source": [
    "somefunc(kwarg2=\"Hello\", arg1=\"Hi\", kwarg1=6, arg2=[2])"
   ]
  },
  {
   "cell_type": "markdown",
   "metadata": {},
   "source": [
    "Let's look at another example - consider a function of $t$, with parameters $A$, $a$, and $\\omega$:\n",
    "$$f(t; A,a, \\omega) = Ae^{-at}\\sin (\\omega t)$$. (The choice of equation is actually pretty random - but it serves to show you that it is easy to translate formulae you encounter into Python code). We can implement $f$ in a Python function with $t$ as positional argument and $A$, $a$, and $\\omega$ as keyword arguments."
   ]
  },
  {
   "cell_type": "code",
   "execution_count": null,
   "metadata": {},
   "outputs": [],
   "source": [
    "from math import pi, exp, sin\n",
    "def f(t, A=1, a=1, ω=2*pi):\n",
    "    return A*exp(-a*t)*sin(ω*t)\n",
    "\n",
    "v1 = f(0.2)\n",
    "v2 = f(0.2, ω=1)\n",
    "v2 = f(0.2, 1, 3)  # same as f(0.2, A=1, a=3)\n",
    "v3 = f(0.2, ω=1, A=2.5)\n",
    "v4 = f(A=5, a=0.1, ω=1, t=1.3)\n",
    "v5 = f(t=0.2, A=9)\n",
    "\n",
    "print(v1, v2, v3, v4, v5)"
   ]
  },
  {
   "cell_type": "markdown",
   "metadata": {},
   "source": [
    "## <span style=\"color:blue\">Exercise: Implement a Gaussian function</span>\n",
    "\n",
    "Make a Python function *gauss*( *x*, *m*=0, *s*=1) for computing the Gaussian function \n",
    "$$f(x)=\\frac{1}{\\sqrt{2\\pi}s}\\exp\\left(-\\frac{1}{2} \\left(\\frac{x-m}{s}\\right)^2\\right)$$\n",
    "Call the function and print out the result for x equal to −5, −4.9, −4.8, ..., 4.8, 4.9, 5, using default values for *m* and *s*.\n"
   ]
  },
  {
   "cell_type": "code",
   "execution_count": 93,
   "metadata": {},
   "outputs": [],
   "source": [
    "import math\n",
    "def gauss(value,std=1,mean=0):\n",
    "    return 1/(math.sqrt(2*math.pi*std**2))*math.exp(-1/2*((value-mean)/std)**2)\n",
    "lista=[]\n",
    "x=[-5+0.1*i for i in range(0,101)]\n",
    "for y in x:\n",
    "    lista.append(gauss(y))\n",
    "    \n",
    "# print(\"\\n.join(str(a) for a in answers)\")"
   ]
  },
  {
   "cell_type": "code",
   "execution_count": 112,
   "metadata": {},
   "outputs": [
    {
     "name": "stdout",
     "output_type": "stream",
     "text": [
      "  1.49e-06\n",
      "  2.44e-06\n",
      "  3.96e-06\n",
      "  6.37e-06\n",
      "  1.01e-05\n",
      "  1.60e-05\n",
      "  2.49e-05\n",
      "  3.85e-05\n",
      "  5.89e-05\n",
      "  8.93e-05\n",
      "  1.34e-04\n",
      "  1.99e-04\n",
      "  2.92e-04\n",
      "  4.25e-04\n",
      "  6.12e-04\n",
      "  8.73e-04\n",
      "  1.23e-03\n",
      "  1.72e-03\n",
      "  2.38e-03\n",
      "  3.27e-03\n",
      "  4.43e-03\n",
      "  5.95e-03\n",
      "  7.92e-03\n",
      "  1.04e-02\n",
      "  1.36e-02\n",
      "  1.75e-02\n",
      "  2.24e-02\n",
      "  2.83e-02\n",
      "  3.55e-02\n",
      "  4.40e-02\n",
      "  5.40e-02\n",
      "  6.56e-02\n",
      "  7.90e-02\n",
      "  9.40e-02\n",
      "  1.11e-01\n",
      "  1.30e-01\n",
      "  1.50e-01\n",
      "  1.71e-01\n",
      "  1.94e-01\n",
      "  2.18e-01\n",
      "  2.42e-01\n",
      "  2.66e-01\n",
      "  2.90e-01\n",
      "  3.12e-01\n",
      "  3.33e-01\n",
      "  3.52e-01\n",
      "  3.68e-01\n",
      "  3.81e-01\n",
      "  3.91e-01\n",
      "  3.97e-01\n",
      "  3.99e-01\n",
      "  3.97e-01\n",
      "  3.91e-01\n",
      "  3.81e-01\n",
      "  3.68e-01\n",
      "  3.52e-01\n",
      "  3.33e-01\n",
      "  3.12e-01\n",
      "  2.90e-01\n",
      "  2.66e-01\n",
      "  2.42e-01\n",
      "  2.18e-01\n",
      "  1.94e-01\n",
      "  1.71e-01\n",
      "  1.50e-01\n",
      "  1.30e-01\n",
      "  1.11e-01\n",
      "  9.40e-02\n",
      "  7.90e-02\n",
      "  6.56e-02\n",
      "  5.40e-02\n",
      "  4.40e-02\n",
      "  3.55e-02\n",
      "  2.83e-02\n",
      "  2.24e-02\n",
      "  1.75e-02\n",
      "  1.36e-02\n",
      "  1.04e-02\n",
      "  7.92e-03\n",
      "  5.95e-03\n",
      "  4.43e-03\n",
      "  3.27e-03\n",
      "  2.38e-03\n",
      "  1.72e-03\n",
      "  1.23e-03\n",
      "  8.73e-04\n",
      "  6.12e-04\n",
      "  4.25e-04\n",
      "  2.92e-04\n",
      "  1.99e-04\n",
      "  1.34e-04\n",
      "  8.93e-05\n",
      "  5.89e-05\n",
      "  3.85e-05\n",
      "  2.49e-05\n",
      "  1.60e-05\n",
      "  1.01e-05\n",
      "  6.37e-06\n",
      "  3.96e-06\n",
      "  2.44e-06\n",
      "  1.49e-06\n"
     ]
    }
   ],
   "source": [
    "#print(\"\\n\".join(str(a) for a in lista))\n",
    "#print(\"\\n\".join(\"%.2e\" %a for a in lista))\n",
    "print(\"\\n\".join(\"%10.2e\" %a for a in lista)) #per allineare i numeri che vediamo!"
   ]
  },
  {
   "cell_type": "code",
   "execution_count": 94,
   "metadata": {},
   "outputs": [
    {
     "data": {
      "application/javascript": [
       "/* Put everything inside the global mpl namespace */\n",
       "window.mpl = {};\n",
       "\n",
       "\n",
       "mpl.get_websocket_type = function() {\n",
       "    if (typeof(WebSocket) !== 'undefined') {\n",
       "        return WebSocket;\n",
       "    } else if (typeof(MozWebSocket) !== 'undefined') {\n",
       "        return MozWebSocket;\n",
       "    } else {\n",
       "        alert('Your browser does not have WebSocket support.' +\n",
       "              'Please try Chrome, Safari or Firefox ≥ 6. ' +\n",
       "              'Firefox 4 and 5 are also supported but you ' +\n",
       "              'have to enable WebSockets in about:config.');\n",
       "    };\n",
       "}\n",
       "\n",
       "mpl.figure = function(figure_id, websocket, ondownload, parent_element) {\n",
       "    this.id = figure_id;\n",
       "\n",
       "    this.ws = websocket;\n",
       "\n",
       "    this.supports_binary = (this.ws.binaryType != undefined);\n",
       "\n",
       "    if (!this.supports_binary) {\n",
       "        var warnings = document.getElementById(\"mpl-warnings\");\n",
       "        if (warnings) {\n",
       "            warnings.style.display = 'block';\n",
       "            warnings.textContent = (\n",
       "                \"This browser does not support binary websocket messages. \" +\n",
       "                    \"Performance may be slow.\");\n",
       "        }\n",
       "    }\n",
       "\n",
       "    this.imageObj = new Image();\n",
       "\n",
       "    this.context = undefined;\n",
       "    this.message = undefined;\n",
       "    this.canvas = undefined;\n",
       "    this.rubberband_canvas = undefined;\n",
       "    this.rubberband_context = undefined;\n",
       "    this.format_dropdown = undefined;\n",
       "\n",
       "    this.image_mode = 'full';\n",
       "\n",
       "    this.root = $('<div/>');\n",
       "    this._root_extra_style(this.root)\n",
       "    this.root.attr('style', 'display: inline-block');\n",
       "\n",
       "    $(parent_element).append(this.root);\n",
       "\n",
       "    this._init_header(this);\n",
       "    this._init_canvas(this);\n",
       "    this._init_toolbar(this);\n",
       "\n",
       "    var fig = this;\n",
       "\n",
       "    this.waiting = false;\n",
       "\n",
       "    this.ws.onopen =  function () {\n",
       "            fig.send_message(\"supports_binary\", {value: fig.supports_binary});\n",
       "            fig.send_message(\"send_image_mode\", {});\n",
       "            if (mpl.ratio != 1) {\n",
       "                fig.send_message(\"set_dpi_ratio\", {'dpi_ratio': mpl.ratio});\n",
       "            }\n",
       "            fig.send_message(\"refresh\", {});\n",
       "        }\n",
       "\n",
       "    this.imageObj.onload = function() {\n",
       "            if (fig.image_mode == 'full') {\n",
       "                // Full images could contain transparency (where diff images\n",
       "                // almost always do), so we need to clear the canvas so that\n",
       "                // there is no ghosting.\n",
       "                fig.context.clearRect(0, 0, fig.canvas.width, fig.canvas.height);\n",
       "            }\n",
       "            fig.context.drawImage(fig.imageObj, 0, 0);\n",
       "        };\n",
       "\n",
       "    this.imageObj.onunload = function() {\n",
       "        fig.ws.close();\n",
       "    }\n",
       "\n",
       "    this.ws.onmessage = this._make_on_message_function(this);\n",
       "\n",
       "    this.ondownload = ondownload;\n",
       "}\n",
       "\n",
       "mpl.figure.prototype._init_header = function() {\n",
       "    var titlebar = $(\n",
       "        '<div class=\"ui-dialog-titlebar ui-widget-header ui-corner-all ' +\n",
       "        'ui-helper-clearfix\"/>');\n",
       "    var titletext = $(\n",
       "        '<div class=\"ui-dialog-title\" style=\"width: 100%; ' +\n",
       "        'text-align: center; padding: 3px;\"/>');\n",
       "    titlebar.append(titletext)\n",
       "    this.root.append(titlebar);\n",
       "    this.header = titletext[0];\n",
       "}\n",
       "\n",
       "\n",
       "\n",
       "mpl.figure.prototype._canvas_extra_style = function(canvas_div) {\n",
       "\n",
       "}\n",
       "\n",
       "\n",
       "mpl.figure.prototype._root_extra_style = function(canvas_div) {\n",
       "\n",
       "}\n",
       "\n",
       "mpl.figure.prototype._init_canvas = function() {\n",
       "    var fig = this;\n",
       "\n",
       "    var canvas_div = $('<div/>');\n",
       "\n",
       "    canvas_div.attr('style', 'position: relative; clear: both; outline: 0');\n",
       "\n",
       "    function canvas_keyboard_event(event) {\n",
       "        return fig.key_event(event, event['data']);\n",
       "    }\n",
       "\n",
       "    canvas_div.keydown('key_press', canvas_keyboard_event);\n",
       "    canvas_div.keyup('key_release', canvas_keyboard_event);\n",
       "    this.canvas_div = canvas_div\n",
       "    this._canvas_extra_style(canvas_div)\n",
       "    this.root.append(canvas_div);\n",
       "\n",
       "    var canvas = $('<canvas/>');\n",
       "    canvas.addClass('mpl-canvas');\n",
       "    canvas.attr('style', \"left: 0; top: 0; z-index: 0; outline: 0\")\n",
       "\n",
       "    this.canvas = canvas[0];\n",
       "    this.context = canvas[0].getContext(\"2d\");\n",
       "\n",
       "    var backingStore = this.context.backingStorePixelRatio ||\n",
       "\tthis.context.webkitBackingStorePixelRatio ||\n",
       "\tthis.context.mozBackingStorePixelRatio ||\n",
       "\tthis.context.msBackingStorePixelRatio ||\n",
       "\tthis.context.oBackingStorePixelRatio ||\n",
       "\tthis.context.backingStorePixelRatio || 1;\n",
       "\n",
       "    mpl.ratio = (window.devicePixelRatio || 1) / backingStore;\n",
       "\n",
       "    var rubberband = $('<canvas/>');\n",
       "    rubberband.attr('style', \"position: absolute; left: 0; top: 0; z-index: 1;\")\n",
       "\n",
       "    var pass_mouse_events = true;\n",
       "\n",
       "    canvas_div.resizable({\n",
       "        start: function(event, ui) {\n",
       "            pass_mouse_events = false;\n",
       "        },\n",
       "        resize: function(event, ui) {\n",
       "            fig.request_resize(ui.size.width, ui.size.height);\n",
       "        },\n",
       "        stop: function(event, ui) {\n",
       "            pass_mouse_events = true;\n",
       "            fig.request_resize(ui.size.width, ui.size.height);\n",
       "        },\n",
       "    });\n",
       "\n",
       "    function mouse_event_fn(event) {\n",
       "        if (pass_mouse_events)\n",
       "            return fig.mouse_event(event, event['data']);\n",
       "    }\n",
       "\n",
       "    rubberband.mousedown('button_press', mouse_event_fn);\n",
       "    rubberband.mouseup('button_release', mouse_event_fn);\n",
       "    // Throttle sequential mouse events to 1 every 20ms.\n",
       "    rubberband.mousemove('motion_notify', mouse_event_fn);\n",
       "\n",
       "    rubberband.mouseenter('figure_enter', mouse_event_fn);\n",
       "    rubberband.mouseleave('figure_leave', mouse_event_fn);\n",
       "\n",
       "    canvas_div.on(\"wheel\", function (event) {\n",
       "        event = event.originalEvent;\n",
       "        event['data'] = 'scroll'\n",
       "        if (event.deltaY < 0) {\n",
       "            event.step = 1;\n",
       "        } else {\n",
       "            event.step = -1;\n",
       "        }\n",
       "        mouse_event_fn(event);\n",
       "    });\n",
       "\n",
       "    canvas_div.append(canvas);\n",
       "    canvas_div.append(rubberband);\n",
       "\n",
       "    this.rubberband = rubberband;\n",
       "    this.rubberband_canvas = rubberband[0];\n",
       "    this.rubberband_context = rubberband[0].getContext(\"2d\");\n",
       "    this.rubberband_context.strokeStyle = \"#000000\";\n",
       "\n",
       "    this._resize_canvas = function(width, height) {\n",
       "        // Keep the size of the canvas, canvas container, and rubber band\n",
       "        // canvas in synch.\n",
       "        canvas_div.css('width', width)\n",
       "        canvas_div.css('height', height)\n",
       "\n",
       "        canvas.attr('width', width * mpl.ratio);\n",
       "        canvas.attr('height', height * mpl.ratio);\n",
       "        canvas.attr('style', 'width: ' + width + 'px; height: ' + height + 'px;');\n",
       "\n",
       "        rubberband.attr('width', width);\n",
       "        rubberband.attr('height', height);\n",
       "    }\n",
       "\n",
       "    // Set the figure to an initial 600x600px, this will subsequently be updated\n",
       "    // upon first draw.\n",
       "    this._resize_canvas(600, 600);\n",
       "\n",
       "    // Disable right mouse context menu.\n",
       "    $(this.rubberband_canvas).bind(\"contextmenu\",function(e){\n",
       "        return false;\n",
       "    });\n",
       "\n",
       "    function set_focus () {\n",
       "        canvas.focus();\n",
       "        canvas_div.focus();\n",
       "    }\n",
       "\n",
       "    window.setTimeout(set_focus, 100);\n",
       "}\n",
       "\n",
       "mpl.figure.prototype._init_toolbar = function() {\n",
       "    var fig = this;\n",
       "\n",
       "    var nav_element = $('<div/>')\n",
       "    nav_element.attr('style', 'width: 100%');\n",
       "    this.root.append(nav_element);\n",
       "\n",
       "    // Define a callback function for later on.\n",
       "    function toolbar_event(event) {\n",
       "        return fig.toolbar_button_onclick(event['data']);\n",
       "    }\n",
       "    function toolbar_mouse_event(event) {\n",
       "        return fig.toolbar_button_onmouseover(event['data']);\n",
       "    }\n",
       "\n",
       "    for(var toolbar_ind in mpl.toolbar_items) {\n",
       "        var name = mpl.toolbar_items[toolbar_ind][0];\n",
       "        var tooltip = mpl.toolbar_items[toolbar_ind][1];\n",
       "        var image = mpl.toolbar_items[toolbar_ind][2];\n",
       "        var method_name = mpl.toolbar_items[toolbar_ind][3];\n",
       "\n",
       "        if (!name) {\n",
       "            // put a spacer in here.\n",
       "            continue;\n",
       "        }\n",
       "        var button = $('<button/>');\n",
       "        button.addClass('ui-button ui-widget ui-state-default ui-corner-all ' +\n",
       "                        'ui-button-icon-only');\n",
       "        button.attr('role', 'button');\n",
       "        button.attr('aria-disabled', 'false');\n",
       "        button.click(method_name, toolbar_event);\n",
       "        button.mouseover(tooltip, toolbar_mouse_event);\n",
       "\n",
       "        var icon_img = $('<span/>');\n",
       "        icon_img.addClass('ui-button-icon-primary ui-icon');\n",
       "        icon_img.addClass(image);\n",
       "        icon_img.addClass('ui-corner-all');\n",
       "\n",
       "        var tooltip_span = $('<span/>');\n",
       "        tooltip_span.addClass('ui-button-text');\n",
       "        tooltip_span.html(tooltip);\n",
       "\n",
       "        button.append(icon_img);\n",
       "        button.append(tooltip_span);\n",
       "\n",
       "        nav_element.append(button);\n",
       "    }\n",
       "\n",
       "    var fmt_picker_span = $('<span/>');\n",
       "\n",
       "    var fmt_picker = $('<select/>');\n",
       "    fmt_picker.addClass('mpl-toolbar-option ui-widget ui-widget-content');\n",
       "    fmt_picker_span.append(fmt_picker);\n",
       "    nav_element.append(fmt_picker_span);\n",
       "    this.format_dropdown = fmt_picker[0];\n",
       "\n",
       "    for (var ind in mpl.extensions) {\n",
       "        var fmt = mpl.extensions[ind];\n",
       "        var option = $(\n",
       "            '<option/>', {selected: fmt === mpl.default_extension}).html(fmt);\n",
       "        fmt_picker.append(option)\n",
       "    }\n",
       "\n",
       "    // Add hover states to the ui-buttons\n",
       "    $( \".ui-button\" ).hover(\n",
       "        function() { $(this).addClass(\"ui-state-hover\");},\n",
       "        function() { $(this).removeClass(\"ui-state-hover\");}\n",
       "    );\n",
       "\n",
       "    var status_bar = $('<span class=\"mpl-message\"/>');\n",
       "    nav_element.append(status_bar);\n",
       "    this.message = status_bar[0];\n",
       "}\n",
       "\n",
       "mpl.figure.prototype.request_resize = function(x_pixels, y_pixels) {\n",
       "    // Request matplotlib to resize the figure. Matplotlib will then trigger a resize in the client,\n",
       "    // which will in turn request a refresh of the image.\n",
       "    this.send_message('resize', {'width': x_pixels, 'height': y_pixels});\n",
       "}\n",
       "\n",
       "mpl.figure.prototype.send_message = function(type, properties) {\n",
       "    properties['type'] = type;\n",
       "    properties['figure_id'] = this.id;\n",
       "    this.ws.send(JSON.stringify(properties));\n",
       "}\n",
       "\n",
       "mpl.figure.prototype.send_draw_message = function() {\n",
       "    if (!this.waiting) {\n",
       "        this.waiting = true;\n",
       "        this.ws.send(JSON.stringify({type: \"draw\", figure_id: this.id}));\n",
       "    }\n",
       "}\n",
       "\n",
       "\n",
       "mpl.figure.prototype.handle_save = function(fig, msg) {\n",
       "    var format_dropdown = fig.format_dropdown;\n",
       "    var format = format_dropdown.options[format_dropdown.selectedIndex].value;\n",
       "    fig.ondownload(fig, format);\n",
       "}\n",
       "\n",
       "\n",
       "mpl.figure.prototype.handle_resize = function(fig, msg) {\n",
       "    var size = msg['size'];\n",
       "    if (size[0] != fig.canvas.width || size[1] != fig.canvas.height) {\n",
       "        fig._resize_canvas(size[0], size[1]);\n",
       "        fig.send_message(\"refresh\", {});\n",
       "    };\n",
       "}\n",
       "\n",
       "mpl.figure.prototype.handle_rubberband = function(fig, msg) {\n",
       "    var x0 = msg['x0'] / mpl.ratio;\n",
       "    var y0 = (fig.canvas.height - msg['y0']) / mpl.ratio;\n",
       "    var x1 = msg['x1'] / mpl.ratio;\n",
       "    var y1 = (fig.canvas.height - msg['y1']) / mpl.ratio;\n",
       "    x0 = Math.floor(x0) + 0.5;\n",
       "    y0 = Math.floor(y0) + 0.5;\n",
       "    x1 = Math.floor(x1) + 0.5;\n",
       "    y1 = Math.floor(y1) + 0.5;\n",
       "    var min_x = Math.min(x0, x1);\n",
       "    var min_y = Math.min(y0, y1);\n",
       "    var width = Math.abs(x1 - x0);\n",
       "    var height = Math.abs(y1 - y0);\n",
       "\n",
       "    fig.rubberband_context.clearRect(\n",
       "        0, 0, fig.canvas.width, fig.canvas.height);\n",
       "\n",
       "    fig.rubberband_context.strokeRect(min_x, min_y, width, height);\n",
       "}\n",
       "\n",
       "mpl.figure.prototype.handle_figure_label = function(fig, msg) {\n",
       "    // Updates the figure title.\n",
       "    fig.header.textContent = msg['label'];\n",
       "}\n",
       "\n",
       "mpl.figure.prototype.handle_cursor = function(fig, msg) {\n",
       "    var cursor = msg['cursor'];\n",
       "    switch(cursor)\n",
       "    {\n",
       "    case 0:\n",
       "        cursor = 'pointer';\n",
       "        break;\n",
       "    case 1:\n",
       "        cursor = 'default';\n",
       "        break;\n",
       "    case 2:\n",
       "        cursor = 'crosshair';\n",
       "        break;\n",
       "    case 3:\n",
       "        cursor = 'move';\n",
       "        break;\n",
       "    }\n",
       "    fig.rubberband_canvas.style.cursor = cursor;\n",
       "}\n",
       "\n",
       "mpl.figure.prototype.handle_message = function(fig, msg) {\n",
       "    fig.message.textContent = msg['message'];\n",
       "}\n",
       "\n",
       "mpl.figure.prototype.handle_draw = function(fig, msg) {\n",
       "    // Request the server to send over a new figure.\n",
       "    fig.send_draw_message();\n",
       "}\n",
       "\n",
       "mpl.figure.prototype.handle_image_mode = function(fig, msg) {\n",
       "    fig.image_mode = msg['mode'];\n",
       "}\n",
       "\n",
       "mpl.figure.prototype.updated_canvas_event = function() {\n",
       "    // Called whenever the canvas gets updated.\n",
       "    this.send_message(\"ack\", {});\n",
       "}\n",
       "\n",
       "// A function to construct a web socket function for onmessage handling.\n",
       "// Called in the figure constructor.\n",
       "mpl.figure.prototype._make_on_message_function = function(fig) {\n",
       "    return function socket_on_message(evt) {\n",
       "        if (evt.data instanceof Blob) {\n",
       "            /* FIXME: We get \"Resource interpreted as Image but\n",
       "             * transferred with MIME type text/plain:\" errors on\n",
       "             * Chrome.  But how to set the MIME type?  It doesn't seem\n",
       "             * to be part of the websocket stream */\n",
       "            evt.data.type = \"image/png\";\n",
       "\n",
       "            /* Free the memory for the previous frames */\n",
       "            if (fig.imageObj.src) {\n",
       "                (window.URL || window.webkitURL).revokeObjectURL(\n",
       "                    fig.imageObj.src);\n",
       "            }\n",
       "\n",
       "            fig.imageObj.src = (window.URL || window.webkitURL).createObjectURL(\n",
       "                evt.data);\n",
       "            fig.updated_canvas_event();\n",
       "            fig.waiting = false;\n",
       "            return;\n",
       "        }\n",
       "        else if (typeof evt.data === 'string' && evt.data.slice(0, 21) == \"data:image/png;base64\") {\n",
       "            fig.imageObj.src = evt.data;\n",
       "            fig.updated_canvas_event();\n",
       "            fig.waiting = false;\n",
       "            return;\n",
       "        }\n",
       "\n",
       "        var msg = JSON.parse(evt.data);\n",
       "        var msg_type = msg['type'];\n",
       "\n",
       "        // Call the  \"handle_{type}\" callback, which takes\n",
       "        // the figure and JSON message as its only arguments.\n",
       "        try {\n",
       "            var callback = fig[\"handle_\" + msg_type];\n",
       "        } catch (e) {\n",
       "            console.log(\"No handler for the '\" + msg_type + \"' message type: \", msg);\n",
       "            return;\n",
       "        }\n",
       "\n",
       "        if (callback) {\n",
       "            try {\n",
       "                // console.log(\"Handling '\" + msg_type + \"' message: \", msg);\n",
       "                callback(fig, msg);\n",
       "            } catch (e) {\n",
       "                console.log(\"Exception inside the 'handler_\" + msg_type + \"' callback:\", e, e.stack, msg);\n",
       "            }\n",
       "        }\n",
       "    };\n",
       "}\n",
       "\n",
       "// from http://stackoverflow.com/questions/1114465/getting-mouse-location-in-canvas\n",
       "mpl.findpos = function(e) {\n",
       "    //this section is from http://www.quirksmode.org/js/events_properties.html\n",
       "    var targ;\n",
       "    if (!e)\n",
       "        e = window.event;\n",
       "    if (e.target)\n",
       "        targ = e.target;\n",
       "    else if (e.srcElement)\n",
       "        targ = e.srcElement;\n",
       "    if (targ.nodeType == 3) // defeat Safari bug\n",
       "        targ = targ.parentNode;\n",
       "\n",
       "    // jQuery normalizes the pageX and pageY\n",
       "    // pageX,Y are the mouse positions relative to the document\n",
       "    // offset() returns the position of the element relative to the document\n",
       "    var x = e.pageX - $(targ).offset().left;\n",
       "    var y = e.pageY - $(targ).offset().top;\n",
       "\n",
       "    return {\"x\": x, \"y\": y};\n",
       "};\n",
       "\n",
       "/*\n",
       " * return a copy of an object with only non-object keys\n",
       " * we need this to avoid circular references\n",
       " * http://stackoverflow.com/a/24161582/3208463\n",
       " */\n",
       "function simpleKeys (original) {\n",
       "  return Object.keys(original).reduce(function (obj, key) {\n",
       "    if (typeof original[key] !== 'object')\n",
       "        obj[key] = original[key]\n",
       "    return obj;\n",
       "  }, {});\n",
       "}\n",
       "\n",
       "mpl.figure.prototype.mouse_event = function(event, name) {\n",
       "    var canvas_pos = mpl.findpos(event)\n",
       "\n",
       "    if (name === 'button_press')\n",
       "    {\n",
       "        this.canvas.focus();\n",
       "        this.canvas_div.focus();\n",
       "    }\n",
       "\n",
       "    var x = canvas_pos.x * mpl.ratio;\n",
       "    var y = canvas_pos.y * mpl.ratio;\n",
       "\n",
       "    this.send_message(name, {x: x, y: y, button: event.button,\n",
       "                             step: event.step,\n",
       "                             guiEvent: simpleKeys(event)});\n",
       "\n",
       "    /* This prevents the web browser from automatically changing to\n",
       "     * the text insertion cursor when the button is pressed.  We want\n",
       "     * to control all of the cursor setting manually through the\n",
       "     * 'cursor' event from matplotlib */\n",
       "    event.preventDefault();\n",
       "    return false;\n",
       "}\n",
       "\n",
       "mpl.figure.prototype._key_event_extra = function(event, name) {\n",
       "    // Handle any extra behaviour associated with a key event\n",
       "}\n",
       "\n",
       "mpl.figure.prototype.key_event = function(event, name) {\n",
       "\n",
       "    // Prevent repeat events\n",
       "    if (name == 'key_press')\n",
       "    {\n",
       "        if (event.which === this._key)\n",
       "            return;\n",
       "        else\n",
       "            this._key = event.which;\n",
       "    }\n",
       "    if (name == 'key_release')\n",
       "        this._key = null;\n",
       "\n",
       "    var value = '';\n",
       "    if (event.ctrlKey && event.which != 17)\n",
       "        value += \"ctrl+\";\n",
       "    if (event.altKey && event.which != 18)\n",
       "        value += \"alt+\";\n",
       "    if (event.shiftKey && event.which != 16)\n",
       "        value += \"shift+\";\n",
       "\n",
       "    value += 'k';\n",
       "    value += event.which.toString();\n",
       "\n",
       "    this._key_event_extra(event, name);\n",
       "\n",
       "    this.send_message(name, {key: value,\n",
       "                             guiEvent: simpleKeys(event)});\n",
       "    return false;\n",
       "}\n",
       "\n",
       "mpl.figure.prototype.toolbar_button_onclick = function(name) {\n",
       "    if (name == 'download') {\n",
       "        this.handle_save(this, null);\n",
       "    } else {\n",
       "        this.send_message(\"toolbar_button\", {name: name});\n",
       "    }\n",
       "};\n",
       "\n",
       "mpl.figure.prototype.toolbar_button_onmouseover = function(tooltip) {\n",
       "    this.message.textContent = tooltip;\n",
       "};\n",
       "mpl.toolbar_items = [[\"Home\", \"Reset original view\", \"fa fa-home icon-home\", \"home\"], [\"Back\", \"Back to  previous view\", \"fa fa-arrow-left icon-arrow-left\", \"back\"], [\"Forward\", \"Forward to next view\", \"fa fa-arrow-right icon-arrow-right\", \"forward\"], [\"\", \"\", \"\", \"\"], [\"Pan\", \"Pan axes with left mouse, zoom with right\", \"fa fa-arrows icon-move\", \"pan\"], [\"Zoom\", \"Zoom to rectangle\", \"fa fa-square-o icon-check-empty\", \"zoom\"], [\"\", \"\", \"\", \"\"], [\"Download\", \"Download plot\", \"fa fa-floppy-o icon-save\", \"download\"]];\n",
       "\n",
       "mpl.extensions = [\"eps\", \"pdf\", \"png\", \"ps\", \"raw\", \"svg\"];\n",
       "\n",
       "mpl.default_extension = \"png\";var comm_websocket_adapter = function(comm) {\n",
       "    // Create a \"websocket\"-like object which calls the given IPython comm\n",
       "    // object with the appropriate methods. Currently this is a non binary\n",
       "    // socket, so there is still some room for performance tuning.\n",
       "    var ws = {};\n",
       "\n",
       "    ws.close = function() {\n",
       "        comm.close()\n",
       "    };\n",
       "    ws.send = function(m) {\n",
       "        //console.log('sending', m);\n",
       "        comm.send(m);\n",
       "    };\n",
       "    // Register the callback with on_msg.\n",
       "    comm.on_msg(function(msg) {\n",
       "        //console.log('receiving', msg['content']['data'], msg);\n",
       "        // Pass the mpl event to the overridden (by mpl) onmessage function.\n",
       "        ws.onmessage(msg['content']['data'])\n",
       "    });\n",
       "    return ws;\n",
       "}\n",
       "\n",
       "mpl.mpl_figure_comm = function(comm, msg) {\n",
       "    // This is the function which gets called when the mpl process\n",
       "    // starts-up an IPython Comm through the \"matplotlib\" channel.\n",
       "\n",
       "    var id = msg.content.data.id;\n",
       "    // Get hold of the div created by the display call when the Comm\n",
       "    // socket was opened in Python.\n",
       "    var element = $(\"#\" + id);\n",
       "    var ws_proxy = comm_websocket_adapter(comm)\n",
       "\n",
       "    function ondownload(figure, format) {\n",
       "        window.open(figure.imageObj.src);\n",
       "    }\n",
       "\n",
       "    var fig = new mpl.figure(id, ws_proxy,\n",
       "                           ondownload,\n",
       "                           element.get(0));\n",
       "\n",
       "    // Call onopen now - mpl needs it, as it is assuming we've passed it a real\n",
       "    // web socket which is closed, not our websocket->open comm proxy.\n",
       "    ws_proxy.onopen();\n",
       "\n",
       "    fig.parent_element = element.get(0);\n",
       "    fig.cell_info = mpl.find_output_cell(\"<div id='\" + id + \"'></div>\");\n",
       "    if (!fig.cell_info) {\n",
       "        console.error(\"Failed to find cell for figure\", id, fig);\n",
       "        return;\n",
       "    }\n",
       "\n",
       "    var output_index = fig.cell_info[2]\n",
       "    var cell = fig.cell_info[0];\n",
       "\n",
       "};\n",
       "\n",
       "mpl.figure.prototype.handle_close = function(fig, msg) {\n",
       "    var width = fig.canvas.width/mpl.ratio\n",
       "    fig.root.unbind('remove')\n",
       "\n",
       "    // Update the output cell to use the data from the current canvas.\n",
       "    fig.push_to_output();\n",
       "    var dataURL = fig.canvas.toDataURL();\n",
       "    // Re-enable the keyboard manager in IPython - without this line, in FF,\n",
       "    // the notebook keyboard shortcuts fail.\n",
       "    IPython.keyboard_manager.enable()\n",
       "    $(fig.parent_element).html('<img src=\"' + dataURL + '\" width=\"' + width + '\">');\n",
       "    fig.close_ws(fig, msg);\n",
       "}\n",
       "\n",
       "mpl.figure.prototype.close_ws = function(fig, msg){\n",
       "    fig.send_message('closing', msg);\n",
       "    // fig.ws.close()\n",
       "}\n",
       "\n",
       "mpl.figure.prototype.push_to_output = function(remove_interactive) {\n",
       "    // Turn the data on the canvas into data in the output cell.\n",
       "    var width = this.canvas.width/mpl.ratio\n",
       "    var dataURL = this.canvas.toDataURL();\n",
       "    this.cell_info[1]['text/html'] = '<img src=\"' + dataURL + '\" width=\"' + width + '\">';\n",
       "}\n",
       "\n",
       "mpl.figure.prototype.updated_canvas_event = function() {\n",
       "    // Tell IPython that the notebook contents must change.\n",
       "    IPython.notebook.set_dirty(true);\n",
       "    this.send_message(\"ack\", {});\n",
       "    var fig = this;\n",
       "    // Wait a second, then push the new image to the DOM so\n",
       "    // that it is saved nicely (might be nice to debounce this).\n",
       "    setTimeout(function () { fig.push_to_output() }, 1000);\n",
       "}\n",
       "\n",
       "mpl.figure.prototype._init_toolbar = function() {\n",
       "    var fig = this;\n",
       "\n",
       "    var nav_element = $('<div/>')\n",
       "    nav_element.attr('style', 'width: 100%');\n",
       "    this.root.append(nav_element);\n",
       "\n",
       "    // Define a callback function for later on.\n",
       "    function toolbar_event(event) {\n",
       "        return fig.toolbar_button_onclick(event['data']);\n",
       "    }\n",
       "    function toolbar_mouse_event(event) {\n",
       "        return fig.toolbar_button_onmouseover(event['data']);\n",
       "    }\n",
       "\n",
       "    for(var toolbar_ind in mpl.toolbar_items){\n",
       "        var name = mpl.toolbar_items[toolbar_ind][0];\n",
       "        var tooltip = mpl.toolbar_items[toolbar_ind][1];\n",
       "        var image = mpl.toolbar_items[toolbar_ind][2];\n",
       "        var method_name = mpl.toolbar_items[toolbar_ind][3];\n",
       "\n",
       "        if (!name) { continue; };\n",
       "\n",
       "        var button = $('<button class=\"btn btn-default\" href=\"#\" title=\"' + name + '\"><i class=\"fa ' + image + ' fa-lg\"></i></button>');\n",
       "        button.click(method_name, toolbar_event);\n",
       "        button.mouseover(tooltip, toolbar_mouse_event);\n",
       "        nav_element.append(button);\n",
       "    }\n",
       "\n",
       "    // Add the status bar.\n",
       "    var status_bar = $('<span class=\"mpl-message\" style=\"text-align:right; float: right;\"/>');\n",
       "    nav_element.append(status_bar);\n",
       "    this.message = status_bar[0];\n",
       "\n",
       "    // Add the close button to the window.\n",
       "    var buttongrp = $('<div class=\"btn-group inline pull-right\"></div>');\n",
       "    var button = $('<button class=\"btn btn-mini btn-primary\" href=\"#\" title=\"Stop Interaction\"><i class=\"fa fa-power-off icon-remove icon-large\"></i></button>');\n",
       "    button.click(function (evt) { fig.handle_close(fig, {}); } );\n",
       "    button.mouseover('Stop Interaction', toolbar_mouse_event);\n",
       "    buttongrp.append(button);\n",
       "    var titlebar = this.root.find($('.ui-dialog-titlebar'));\n",
       "    titlebar.prepend(buttongrp);\n",
       "}\n",
       "\n",
       "mpl.figure.prototype._root_extra_style = function(el){\n",
       "    var fig = this\n",
       "    el.on(\"remove\", function(){\n",
       "\tfig.close_ws(fig, {});\n",
       "    });\n",
       "}\n",
       "\n",
       "mpl.figure.prototype._canvas_extra_style = function(el){\n",
       "    // this is important to make the div 'focusable\n",
       "    el.attr('tabindex', 0)\n",
       "    // reach out to IPython and tell the keyboard manager to turn it's self\n",
       "    // off when our div gets focus\n",
       "\n",
       "    // location in version 3\n",
       "    if (IPython.notebook.keyboard_manager) {\n",
       "        IPython.notebook.keyboard_manager.register_events(el);\n",
       "    }\n",
       "    else {\n",
       "        // location in version 2\n",
       "        IPython.keyboard_manager.register_events(el);\n",
       "    }\n",
       "\n",
       "}\n",
       "\n",
       "mpl.figure.prototype._key_event_extra = function(event, name) {\n",
       "    var manager = IPython.notebook.keyboard_manager;\n",
       "    if (!manager)\n",
       "        manager = IPython.keyboard_manager;\n",
       "\n",
       "    // Check for shift+enter\n",
       "    if (event.shiftKey && event.which == 13) {\n",
       "        this.canvas_div.blur();\n",
       "        event.shiftKey = false;\n",
       "        // Send a \"J\" for go to next cell\n",
       "        event.which = 74;\n",
       "        event.keyCode = 74;\n",
       "        manager.command_mode();\n",
       "        manager.handle_keydown(event);\n",
       "    }\n",
       "}\n",
       "\n",
       "mpl.figure.prototype.handle_save = function(fig, msg) {\n",
       "    fig.ondownload(fig, null);\n",
       "}\n",
       "\n",
       "\n",
       "mpl.find_output_cell = function(html_output) {\n",
       "    // Return the cell and output element which can be found *uniquely* in the notebook.\n",
       "    // Note - this is a bit hacky, but it is done because the \"notebook_saving.Notebook\"\n",
       "    // IPython event is triggered only after the cells have been serialised, which for\n",
       "    // our purposes (turning an active figure into a static one), is too late.\n",
       "    var cells = IPython.notebook.get_cells();\n",
       "    var ncells = cells.length;\n",
       "    for (var i=0; i<ncells; i++) {\n",
       "        var cell = cells[i];\n",
       "        if (cell.cell_type === 'code'){\n",
       "            for (var j=0; j<cell.output_area.outputs.length; j++) {\n",
       "                var data = cell.output_area.outputs[j];\n",
       "                if (data.data) {\n",
       "                    // IPython >= 3 moved mimebundle to data attribute of output\n",
       "                    data = data.data;\n",
       "                }\n",
       "                if (data['text/html'] == html_output) {\n",
       "                    return [cell, data, j];\n",
       "                }\n",
       "            }\n",
       "        }\n",
       "    }\n",
       "}\n",
       "\n",
       "// Register the function which deals with the matplotlib target/channel.\n",
       "// The kernel may be null if the page has been refreshed.\n",
       "if (IPython.notebook.kernel != null) {\n",
       "    IPython.notebook.kernel.comm_manager.register_target('matplotlib', mpl.mpl_figure_comm);\n",
       "}\n"
      ],
      "text/plain": [
       "<IPython.core.display.Javascript object>"
      ]
     },
     "metadata": {},
     "output_type": "display_data"
    },
    {
     "data": {
      "text/html": [
       "<img src=\"data:image/png;base64,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\" width=\"640\">"
      ],
      "text/plain": [
       "<IPython.core.display.HTML object>"
      ]
     },
     "metadata": {},
     "output_type": "display_data"
    },
    {
     "data": {
      "text/plain": [
       "[<matplotlib.lines.Line2D at 0x1141493c8>]"
      ]
     },
     "execution_count": 94,
     "metadata": {},
     "output_type": "execute_result"
    }
   ],
   "source": [
    "%matplotlib notebook\n",
    "from matplotlib import pyplot as plt\n",
    "plt.plot(x,lista)"
   ]
  },
  {
   "cell_type": "code",
   "execution_count": 99,
   "metadata": {},
   "outputs": [],
   "source": [
    "import numpy\n",
    "numpy.linspace?"
   ]
  },
  {
   "cell_type": "markdown",
   "metadata": {},
   "source": [
    "## The *if* statement\n",
    "Consider this simple example:"
   ]
  },
  {
   "cell_type": "code",
   "execution_count": null,
   "metadata": {},
   "outputs": [],
   "source": [
    "def f(x):\n",
    "    if 0 <= x <= pi:\n",
    "        return sin(x)\n",
    "    else:\n",
    "        return 0\n",
    "print(f(-pi/2), f(pi/2), f(3*pi/2))"
   ]
  },
  {
   "cell_type": "markdown",
   "metadata": {},
   "source": [
    "In general (the *else* block can be skipped if there are no statements to be executed when False) we can put together multiple conditions. Only the first condition that is True is executed."
   ]
  },
  {
   "cell_type": "raw",
   "metadata": {},
   "source": [
    "if condition1:\n",
    "    <block of statements, executed if condition1 is True>\n",
    "elif condition2:\n",
    "    <block of statements>\n",
    "elif condition3:\n",
    "    <block of statements>\n",
    "else:\n",
    "    <block of statements>\n",
    "    \n",
    "<next statement of the program>"
   ]
  },
  {
   "cell_type": "markdown",
   "metadata": {},
   "source": [
    "## The ternary operator\n",
    "\n",
    "There is another form of *if* which works as an operator, rather than a statement. If you've used the *if* function in a spreadsheet then you'll be familiar with this approach."
   ]
  },
  {
   "cell_type": "code",
   "execution_count": null,
   "metadata": {},
   "outputs": [],
   "source": [
    "def f(x):\n",
    "    return (sin(x) if 0 <= x <= pi else 0)\n",
    "print(f(-pi/2), f(pi/2), f(3*pi/2))"
   ]
  },
  {
   "cell_type": "markdown",
   "metadata": {},
   "source": [
    "The ternary operator has the following form:"
   ]
  },
  {
   "cell_type": "raw",
   "metadata": {},
   "source": [
    "<expression if condition is True> if <condition> else <expression if condition is false>"
   ]
  },
  {
   "cell_type": "markdown",
   "metadata": {},
   "source": [
    "## <span style=\"color:blue\">Exercise: Express a step function as a Python function</span>\n",
    "The following \"step\" function is known as the Heaviside function and\n",
    "is widely used in mathematics:\n",
    "$$H(x)=\\begin{cases}0, & \\text{if $x<0$}.\\\\\\\\\n",
    "1, & \\text{if $x\\ge 0$}.\\end{cases}$$\n",
    "Write a Python function H(x) that computes H(x)."
   ]
  },
  {
   "cell_type": "code",
   "execution_count": null,
   "metadata": {},
   "outputs": [],
   "source": []
  }
 ],
 "metadata": {
  "kernelspec": {
   "display_name": "Python 3",
   "language": "python",
   "name": "python3"
  },
  "language_info": {
   "codemirror_mode": {
    "name": "ipython",
    "version": 3
   },
   "file_extension": ".py",
   "mimetype": "text/x-python",
   "name": "python",
   "nbconvert_exporter": "python",
   "pygments_lexer": "ipython3",
   "version": "3.7.0"
  }
 },
 "nbformat": 4,
 "nbformat_minor": 1
}
